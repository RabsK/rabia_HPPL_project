{
  "nbformat": 4,
  "nbformat_minor": 0,
  "metadata": {
    "colab": {
      "provenance": []
    },
    "kernelspec": {
      "name": "python3",
      "display_name": "Python 3"
    },
    "language_info": {
      "name": "python"
    }
  },
  "cells": [
    {
      "cell_type": "markdown",
      "source": [
        "## Neurons and Networks of Neurons in Python"
      ],
      "metadata": {
        "id": "cnKSZBa9uvU0"
      }
    },
    {
      "cell_type": "markdown",
      "source": [
        "For this particular project I have choosen Neuron coding with MPI. It is due to the reason that I would like to learn the use of Neuron as it may help for my research of Brain-computer Interface (BCI). \n",
        "The main idea and the understanding of neuron has been taken from \n",
        "\n",
        "https://neuron.yale.edu/neuron/docs\n",
        "\n",
        "I have also taken the help from the following book\n",
        "\n",
        "Carnevale, N., & Hines, M. (2006). The NEURON Book. Cambridge: Cambridge University Press. doi:10.1017/CBO9780511541612\n",
        "\n"
      ],
      "metadata": {
        "id": "UwDUmL7TvQld"
      }
    },
    {
      "cell_type": "markdown",
      "source": [
        "In this project excercise, the basic templet of parallelization for a loop is used\n"
      ],
      "metadata": {
        "id": "X-bZeE5wyL_x"
      }
    },
    {
      "cell_type": "code",
      "execution_count": null,
      "metadata": {
        "colab": {
          "base_uri": "https://localhost:8080/"
        },
        "id": "iRNcytL4Ttpk",
        "outputId": "a5a643a1-5105-4af4-c5ef-313b4729340f"
      },
      "outputs": [
        {
          "output_type": "stream",
          "name": "stdout",
          "text": [
            "Looking in indexes: https://pypi.org/simple, https://us-python.pkg.dev/colab-wheels/public/simple/\n",
            "Requirement already satisfied: neuron in /usr/local/lib/python3.8/dist-packages (8.2.2)\n",
            "Requirement already satisfied: numpy>=1.9.3 in /usr/local/lib/python3.8/dist-packages (from neuron) (1.21.6)\n",
            "Looking in indexes: https://pypi.org/simple, https://us-python.pkg.dev/colab-wheels/public/simple/\n",
            "Requirement already satisfied: mpi4py in /usr/local/lib/python3.8/dist-packages (3.1.4)\n"
          ]
        }
      ],
      "source": [
        "!pip3 install neuron\n",
        "!pip3 install mpi4py"
      ]
    },
    {
      "cell_type": "markdown",
      "source": [
        "During the understanding of this project, there are some new terms that I learnt and did not use Description of the context used below\n",
        "## **h.nrnmpi_init()**\n",
        "Initializes MPI if it has not already been initialized; mpi4py can also be used to intialize MPI. Only required if:\n",
        "\n",
        "launched python and mpi4py not used and NEURON_INIT_MPI=1 environment varialble has not been exported.\n",
        "\n",
        "launched nrniv without -mpi argument.\n",
        "\n",
        "The mpi_init method name was removed from ParallelContext and replaced with the HocTopLevelInterpreter method nrnmpi_init() because MPI must be initialized prior to the first instantiation of ParallelContext.\n",
        "\n",
        "## **ParallelContext.barrier()**\n",
        "\n",
        "Does an MPI_Barrier and returns the wait time at the barrier. Execution resumes only after all process reach this statement.\n"
      ],
      "metadata": {
        "id": "-XeZAAd30hAz"
      }
    },
    {
      "cell_type": "markdown",
      "source": [
        "ParallelContext.py_alltoall()"
      ],
      "metadata": {
        "id": "vhCP7sYFUKYJ"
      }
    },
    {
      "cell_type": "code",
      "source": [
        "%matplotlib inline"
      ],
      "metadata": {
        "id": "MIo8I_zrcqsv"
      },
      "execution_count": null,
      "outputs": []
    },
    {
      "cell_type": "markdown",
      "source": [
        "Analogous to MPI_Alltoallv(…). \n",
        "\n",
        "\n",
        "\n",
        "*   The srclist must be a Python list of nhost pickleable Python objects, (Items with value None are allowed).\n",
        "*   The ith object is communicated to the ith host.\n",
        "*   The return value is a Python list of nhost items where the ith item was communicated by the ith host. \n",
        "*   This is a collective operation, so all hosts must participate.\n",
        "\n",
        "*   An optional second integer argument > 0 specifies the initial source pickle buffer size in bytes.\n",
        "*   The default size is 100k bytes. The size will grow by approximately doubling when needed.\n",
        "\n",
        "If the optional second argument is -1, then no transfers will be made and return value will be (src_buffer_size, dest_buffer_size) of the pickle buffers which would be needed for sending and receiving."
      ],
      "metadata": {
        "id": "H79r3gYDz1iT"
      }
    },
    {
      "cell_type": "code",
      "source": [
        "\n",
        "%%writefile alltoall.py\n",
        "# In this code the py-alltoall() is used\n",
        "import matplotlib.pyplot as plt\n",
        "from neuron import h\n",
        "import sys\n",
        "\n",
        "h.nrnmpi_init()   #Initializes MPI if it has not already been initialized\n",
        "parallel_context = h.ParallelContext()\n",
        "nhost = parallel_context.nhost()\n",
        "rank = parallel_context.id()\n",
        "\n",
        "#Keep host output from being intermingled.\n",
        "#Not always completely successful.\n",
        "\n",
        "def serialization():\n",
        "    for r in range(nhost):\n",
        "        parallel_context.barrier()\n",
        "        if r == rank:\n",
        "            yield r\n",
        "            sys.stdout.flush()\n",
        "    parallel_context.barrier()\n",
        "\n",
        "data = [(rank, i) for i in range(nhost)]\n",
        "\n",
        "if rank == 0:\n",
        "    print('transmitter data')\n",
        "for r in serialization():\n",
        "    print('{} {}'.format(rank, data))\n",
        "\n",
        "data = parallel_context.py_alltoall(data)\n",
        "\n",
        "if rank == 0:\n",
        "    print('reciever data')\n",
        "\n",
        "for r in serialization():\n",
        "    print('{} {}'.format(rank, data))\n",
        "\n",
        "parallel_context.runworker()\n",
        "parallel_context.done()\n",
        "h.quit()"
      ],
      "metadata": {
        "colab": {
          "base_uri": "https://localhost:8080/"
        },
        "id": "V3MC5kiOT2sR",
        "outputId": "6d6ba2f4-2400-4539-f18f-ba1d47323433"
      },
      "execution_count": null,
      "outputs": [
        {
          "output_type": "stream",
          "name": "stdout",
          "text": [
            "Overwriting alltoall.py\n"
          ]
        }
      ]
    },
    {
      "cell_type": "code",
      "source": [
        "!mpirun --allow-run-as-root -n 3 python alltoall.py"
      ],
      "metadata": {
        "colab": {
          "base_uri": "https://localhost:8080/"
        },
        "id": "p2oUMKYIUL3B",
        "outputId": "3c7a7cfa-1a4d-4862-a576-b07665622361"
      },
      "execution_count": null,
      "outputs": [
        {
          "output_type": "stream",
          "name": "stdout",
          "text": [
            "Warning: no DISPLAY environment variable.\n",
            "--No graphics will be displayed.\n",
            "Warning: no DISPLAY environment variable.\n",
            "--No graphics will be displayed.\n",
            "Warning: no DISPLAY environment variable.\n",
            "--No graphics will be displayed.\n",
            "numprocs=3\n",
            "transmitter data\n",
            "0 [(0, 0), (0, 1), (0, 2)]\n",
            "1 [(1, 0), (1, 1), (1, 2)]\n",
            "2 [(2, 0), (2, 1), (2, 2)]\n",
            "reciever data\n",
            "0 [(0, 0), (1, 0), (2, 0)]\n",
            "1 [(0, 1), (1, 1), (2, 1)]\n",
            "2 [(0, 2), (1, 2), (2, 2)]\n"
          ]
        }
      ]
    },
    {
      "cell_type": "markdown",
      "source": [
        "## **ParallelContext.allgather()**\n",
        "Syntax:  parallel_context.allgather(value, result_vector)\n",
        "\n",
        "Every host gets the value from every other host. The value from a host id is in the id’th element of the vector. The vector is resized to size pc.nhost.\n",
        "\n",
        "### **ParallelContext.alltoall()**\n",
        "Syntax: parallel_context..alltoall(vsrc, vcnts, vdest)\n",
        "\n",
        "\n",
        "Analogous to MPI_Alltoallv(…). vcnts must be of size parallel_context.nhost and vcnts.sum must equal the size of vsrc. For host i, vcnts[j] elements of vsrc are sent to host j beginning at the index vcnts.sum(0,j-1). On host j, those elements are put into vdest beginning at the location after the elements received from hosts 0 to i-1. The vdest is resized to the number of elements received. Note that vcnts are generally different for different hosts. If you need to know how many came from what host, use the idiom parallel_context.alltoall(vcnts, one, vdest) where one is a vector filled with 1.\n",
        "\n",
        "## **ParallelContext.py_alltoall()** \n",
        "Syntax: parallel_context.py_alltoall(srclist)\n",
        "\n",
        "\n",
        "Analogous to MPI_Alltoallv(…). The srclist must be a Python list of nhost pickleable Python objects. (Items with value None are allowed). The ith object is communicated to the ith host. the return value is a Python list of nhost items where the ith item was communicated by the ith host. This is a collective operation, so all hosts must participate.\n",
        "\n",
        "An optional second integer argument > 0 specifies the initial source pickle buffer size in bytes. The default size is 100k bytes. The size will grow by approximately doubling when needed.\n",
        "\n",
        "If the optional second argument is -1, then no transfers will be made and return value will be (src_buffer_size, dest_buffer_size) of the pickle buffers which would be needed for sending and receiving."
      ],
      "metadata": {
        "id": "Z3e_zKYieJTU"
      }
    },
    {
      "cell_type": "markdown",
      "source": [
        "### **ParallelContext.py_gather()**\n",
        "Syntax: destlist_on_root = parallel_context.py_gather(srcitem, root)"
      ],
      "metadata": {
        "id": "aR0vPl062hDc"
      }
    },
    {
      "cell_type": "markdown",
      "source": [
        "Each rank sends its srcitem to the root rank. The root rank assembles the arriving objects into an nhost size list such that the i’th element came from the i’th rank. The destlist_on_root return value for non-root ranks is None. The srcitem may be any pickleable Python object including None, Bool, int, h.Vector, etc. and will appear in the destination list as that type. This method can only be called from the python interpreter and cannot be called from HOC. All ranks (or all ranks in a subworld) must participate in this MPI collective.\n",
        "\n",
        "pc.py_gather uses less memory and is faster than the almost equivalent destlist = pc.py_alltoall([srcitem if i == root else None for i in range(nhost)]) “Almost” because the return value on non-root ranks is None for pc.py_allgather but a list of nhost None for pc.py_alltoall"
      ],
      "metadata": {
        "id": "8P2u7vQN2YVe"
      }
    },
    {
      "cell_type": "code",
      "source": [
        "%%writefile gather.py\n",
        "\n",
        "from neuron import h\n",
        "parallel_context = h.ParallelContext()\n",
        "nhost = parallel_context.nhost()\n",
        "rank = parallel_context.id()\n",
        "\n",
        "src = rank\n",
        "dest = parallel_context.py_allgather(src)\n",
        "\n",
        "def pr(label, val):\n",
        "  from time import sleep\n",
        "  sleep(0.1) # try to avoid mixing different pr output\n",
        "  print(\"%d: %s: %s\" % (rank, label, val))\n",
        "\n",
        "pr(\"allgather src\", src)\n",
        "pr(\"allgather dest\", dest)\n",
        "\n",
        "src = [src]*nhost\n",
        "dest = parallel_context.py_alltoall(src)\n",
        "pr(\"alltoall src\", src)\n",
        "pr(\"alltoall dest\", dest)\n",
        "\n",
        "parallel_context.barrier()\n",
        "h.quit()"
      ],
      "metadata": {
        "colab": {
          "base_uri": "https://localhost:8080/"
        },
        "id": "NosnPNajVwFv",
        "outputId": "7649fac3-aa9f-4307-9a0e-5ece784e45b5"
      },
      "execution_count": null,
      "outputs": [
        {
          "output_type": "stream",
          "name": "stdout",
          "text": [
            "Overwriting gather.py\n"
          ]
        }
      ]
    },
    {
      "cell_type": "code",
      "source": [
        "!mpiexec --allow-run-as-root -n 6 nrniv -python -mpi gather.py"
      ],
      "metadata": {
        "colab": {
          "base_uri": "https://localhost:8080/"
        },
        "id": "ZJtWbmujeMHV",
        "outputId": "0da0b639-0769-49cf-a8d8-bf901744f5be"
      },
      "execution_count": null,
      "outputs": [
        {
          "output_type": "stream",
          "name": "stdout",
          "text": [
            "numprocs=6\n",
            "NEURON -- VERSION 8.2.2 HEAD (93d41fafd) 2022-12-15\n",
            "Duke, Yale, and the BlueBrain Project -- Copyright 1984-2022\n",
            "See http://neuron.yale.edu/neuron/credits\n",
            "\n",
            "3: allgather src: 3\n",
            "5: allgather src: 5\n",
            "4: allgather src: 4\n",
            "0: allgather src: 0\n",
            "2: allgather src: 2\n",
            "1: allgather src: 1\n",
            "4: allgather dest: [0, 1, 2, 3, 4, 5]\n",
            "5: allgather dest: [0, 1, 2, 3, 4, 5]\n",
            "0: allgather dest: [0, 1, 2, 3, 4, 5]\n",
            "3: allgather dest: [0, 1, 2, 3, 4, 5]\n",
            "1: allgather dest: [0, 1, 2, 3, 4, 5]\n",
            "2: allgather dest: [0, 1, 2, 3, 4, 5]\n",
            "5: alltoall src: [5, 5, 5, 5, 5, 5]\n",
            "2: alltoall src: [2, 2, 2, 2, 2, 2]\n",
            "4: alltoall src: [4, 4, 4, 4, 4, 4]\n",
            "0: alltoall src: [0, 0, 0, 0, 0, 0]\n",
            "3: alltoall src: [3, 3, 3, 3, 3, 3]\n",
            "1: alltoall src: [1, 1, 1, 1, 1, 1]\n",
            "5: alltoall dest: [0, 1, 2, 3, 4, 5]\n",
            "4: alltoall dest: [0, 1, 2, 3, 4, 5]\n",
            "0: alltoall dest: [0, 1, 2, 3, 4, 5]\n",
            "2: alltoall dest: [0, 1, 2, 3, 4, 5]\n",
            "3: alltoall dest: [0, 1, 2, 3, 4, 5]\n",
            "1: alltoall dest: [0, 1, 2, 3, 4, 5]\n"
          ]
        }
      ]
    },
    {
      "cell_type": "markdown",
      "source": [
        "ParallelContext.py_scatter()"
      ],
      "metadata": {
        "id": "wcRBelJdehbs"
      }
    },
    {
      "cell_type": "code",
      "source": [
        "%%writefile scatter.py\n",
        "import matplotlib.pyplot as plt\n",
        "from neuron import h\n",
        "import sys\n",
        "import tracemalloc\n",
        "from mpi4py import MPI\n",
        "\n",
        "\n",
        "h.nrnmpi_init()   #Initializes MPI if it has not already been initialized\n",
        "\n",
        "tracemalloc.start()\n",
        "\n",
        "\n",
        "start=MPI.Wtime()\n",
        "\n",
        "parallel_context = h.ParallelContext()\n",
        "nhost = parallel_context.nhost()\n",
        "rank = parallel_context.id()\n",
        "\n",
        "root = 0 # any specific rank\n",
        "src = [i for i in range(nhost)] if rank == root else None\n",
        "dest = parallel_context.py_scatter(src, root)\n",
        "\n",
        "def pr(label, val):\n",
        "  from time import sleep\n",
        "  sleep(.1) # try to avoid mixing different pr output\n",
        "  print(\"%d: %s: %s\" % (rank, label, val))\n",
        "\n",
        "pr(\"scatter src\", src)\n",
        "pr(\"scatter dest\", dest)\n",
        "\n",
        "src = src if rank == root else [None]*nhost\n",
        "dest = parallel_context.py_alltoall(src)\n",
        "pr(\"alltoall src\", src)\n",
        "pr(\"alltoall dest\", dest)\n",
        "\n",
        "parallel_context.barrier()\n",
        "h.quit()"
      ],
      "metadata": {
        "colab": {
          "base_uri": "https://localhost:8080/"
        },
        "id": "L8rrDsIUeYg1",
        "outputId": "85c44093-bc35-461c-a2ff-fc4cfd96f66a"
      },
      "execution_count": null,
      "outputs": [
        {
          "output_type": "stream",
          "name": "stdout",
          "text": [
            "Writing scatter.py\n"
          ]
        }
      ]
    },
    {
      "cell_type": "code",
      "source": [
        "!mpiexec --allow-run-as-root -n 5 nrniv -python -mpi scatter.py"
      ],
      "metadata": {
        "colab": {
          "base_uri": "https://localhost:8080/"
        },
        "id": "t7Zd1PP8en0l",
        "outputId": "3a962d0d-e927-4dd4-e808-3effc3b681d8"
      },
      "execution_count": null,
      "outputs": [
        {
          "output_type": "stream",
          "name": "stdout",
          "text": [
            "numprocs=5\n",
            "NEURON -- VERSION 8.2.2 HEAD (93d41fafd) 2022-12-15\n",
            "Duke, Yale, and the BlueBrain Project -- Copyright 1984-2022\n",
            "See http://neuron.yale.edu/neuron/credits\n",
            "\n",
            "1: scatter src: None\n",
            "3: scatter src: None\n",
            "4: scatter src: None\n",
            "0: scatter src: [0, 1, 2, 3, 4]\n",
            "2: scatter src: None\n",
            "4: scatter dest: 4\n",
            "1: scatter dest: 1\n",
            "3: scatter dest: 3\n",
            "0: scatter dest: 0\n",
            "2: scatter dest: 2\n",
            "3: alltoall src: [None, None, None, None, None]\n",
            "2: alltoall src: [None, None, None, None, None]\n",
            "0: alltoall src: [0, 1, 2, 3, 4]\n",
            "4: alltoall src: [None, None, None, None, None]\n",
            "1: alltoall src: [None, None, None, None, None]\n",
            "2: alltoall dest: [2, None, None, None, None]\n",
            "3: alltoall dest: [3, None, None, None, None]\n",
            "0: alltoall dest: [0, None, None, None, None]\n",
            "4: alltoall dest: [4, None, None, None, None]\n",
            "1: alltoall dest: [1, None, None, None, None]\n"
          ]
        }
      ]
    },
    {
      "cell_type": "markdown",
      "source": [
        "ParallelContext.py_broadcast()"
      ],
      "metadata": {
        "id": "DiqpF7Ope53z"
      }
    },
    {
      "cell_type": "code",
      "source": [
        "%%writefile broadcast.py\n",
        "from neuron import h\n",
        "parallel_context = h.ParallelContext()\n",
        "nhost = parallel_context.nhost()\n",
        "rank = parallel_context.id()\n",
        "\n",
        "root = 0 # any specific rank\n",
        "src = rank if rank == root else None\n",
        "dest = parallel_context.py_broadcast(src, root)\n",
        "\n",
        "def pr(label, val):\n",
        "  from time import sleep\n",
        "  sleep(.1) # try to avoid mixing different pr output\n",
        "  print(\"%d: %s: %s\" % (rank, label, val))\n",
        "\n",
        "pr(\"broadcast src\", src)\n",
        "pr(\"broadcast dest\", dest)\n",
        "\n",
        "src = [src]*nhost if rank == root else [None]*nhost\n",
        "dest = parallel_context.py_alltoall(src)\n",
        "pr(\"alltoall src\", src)\n",
        "pr(\"alltoall dest\", dest)\n",
        "\n",
        "parallel_context.barrier()\n",
        "h.quit()"
      ],
      "metadata": {
        "colab": {
          "base_uri": "https://localhost:8080/"
        },
        "id": "zdPOUfHxe0xF",
        "outputId": "00bb6485-556f-4ef0-b195-ca40bbd0fa11"
      },
      "execution_count": null,
      "outputs": [
        {
          "output_type": "stream",
          "name": "stdout",
          "text": [
            "Overwriting broadcast.py\n"
          ]
        }
      ]
    },
    {
      "cell_type": "code",
      "source": [
        "%%timeit\n",
        "!mpiexec --allow-run-as-root -n 4 nrniv -python -mpi broadcast.py"
      ],
      "metadata": {
        "colab": {
          "base_uri": "https://localhost:8080/"
        },
        "id": "EldwXedOe-C1",
        "outputId": "39a49d9a-cae7-4db9-d437-db13478b568c"
      },
      "execution_count": null,
      "outputs": [
        {
          "output_type": "stream",
          "name": "stdout",
          "text": [
            "numprocs=4\n",
            "NEURON -- VERSION 8.2.2 HEAD (93d41fafd) 2022-12-15\n",
            "Duke, Yale, and the BlueBrain Project -- Copyright 1984-2022\n",
            "See http://neuron.yale.edu/neuron/credits\n",
            "\n",
            "0: broadcast src: 0\n",
            "2: broadcast src: None\n",
            "1: broadcast src: None\n",
            "3: broadcast src: None\n",
            "0: broadcast dest: 0\n",
            "2: broadcast dest: 0\n",
            "1: broadcast dest: 0\n",
            "3: broadcast dest: 0\n",
            "0: alltoall src: [0, 0, 0, 0]\n",
            "2: alltoall src: [None, None, None, None]\n",
            "3: alltoall src: [None, None, None, None]\n",
            "1: alltoall src: [None, None, None, None]\n",
            "0: alltoall dest: [0, None, None, None]\n",
            "3: alltoall dest: [0, None, None, None]\n",
            "2: alltoall dest: [0, None, None, None]\n",
            "1: alltoall dest: [0, None, None, None]\n"
          ]
        }
      ]
    },
    {
      "cell_type": "markdown",
      "source": [
        "## **Building a multicompartment cell and evolve it into a network of cells running on a parallel machine**\n",
        "\n",
        "In this section, I took the functionality of the ring network  and encapsulate it into various classes so that the network is more extensible. \n",
        "\n",
        "I also begin parameterizing the model so that particular values are not hard-coded, but remain variable so that the model is flexible."
      ],
      "metadata": {
        "id": "2WqXDXcu3c-8"
      }
    },
    {
      "cell_type": "markdown",
      "source": [
        " **Generic Cell class**\n",
        "In this section, I created a generic Cell class and expand this to make it more powerful. Each Cell record its spike times, some membrane potential timeseries, and keep track of NetCons."
      ],
      "metadata": {
        "id": "_1Dq95yi4AHd"
      }
    },
    {
      "cell_type": "markdown",
      "source": [
        "**Make a Ring class**\n",
        "\n",
        "Encapsulating code into discrete objects is not only conceptually useful for code management, but as we know with cell objects, it lets us make several instances of the object for use in a network. Thinking ahead, we may very well need several networks – each network configured differently. This allows scripting of several simulations en masse, either in a for loop that sequentially processes the networks, or it can be used with NEURON's subworlds architecture in a parallel context."
      ],
      "metadata": {
        "id": "BojKJKlJ5TIL"
      }
    },
    {
      "cell_type": "code",
      "source": [
        "from neuron import h, gui\n",
        "from neuron.units import ms, mV\n",
        "h.load_file('stdrun.hoc')\n",
        "\n",
        "\"\"\"\n",
        "\n",
        "cell start\n",
        "\n",
        "Generic Cell class\n",
        "\"\"\"\n",
        "class Cell:\n",
        "    def __init__(self, gid, x, y, z, theta):\n",
        "        self._gid = gid\n",
        "        self._setup_morphology()\n",
        "        self.all = self.soma.wholetree()\n",
        "        self._setup_biophysics()\n",
        "        self.x = self.y = self.z = 0\n",
        "        h.define_shape()\n",
        "        self._rotate_z(theta)\n",
        "        self._set_position(x, y, z)\n",
        "        \n",
        "        # everything below here in this method is NEW\n",
        "        self._spike_detector = h.NetCon(self.soma(0.5)._ref_v, None, sec=self.soma)\n",
        "        self.spike_times = h.Vector()\n",
        "        self._spike_detector.record(self.spike_times)\n",
        "        \n",
        "        self._ncs = []\n",
        "        \n",
        "        self.soma_v = h.Vector().record(self.soma(0.5)._ref_v)\n",
        "\n",
        "        \n",
        "    def __repr__(self):\n",
        "        return '{}[{}]'.format(self.name, self._gid)\n",
        "    \n",
        "    def _set_position(self, x, y, z):\n",
        "        for sec in self.all:\n",
        "            for i in range(sec.n3d()):\n",
        "                sec.pt3dchange(i,\n",
        "                               x - self.x + sec.x3d(i),\n",
        "                               y - self.y + sec.y3d(i),\n",
        "                               z - self.z + sec.z3d(i),\n",
        "                              sec.diam3d(i))\n",
        "        self.x, self.y, self.z = x, y, z\n",
        "        \n",
        "    def _rotate_z(self, theta):\n",
        "        \"\"\"Rotate the cell about the Z axis.\"\"\"\n",
        "        for sec in self.all:\n",
        "            for i in range(sec.n3d()):\n",
        "                x = sec.x3d(i)\n",
        "                y = sec.y3d(i)\n",
        "                c = h.cos(theta)\n",
        "                s = h.sin(theta)\n",
        "                xprime = x * c - y * s\n",
        "                yprime = x * s + y * c\n",
        "                sec.pt3dchange(i, xprime, yprime, sec.z3d(i), sec.diam3d(i))\n",
        "\n",
        "\n",
        "\n",
        "\"\"\"\n",
        "\n",
        "cell end\n",
        "\n",
        "\"\"\"\n",
        "\"\"\"\n",
        "\n",
        "ballandstick.py start\n",
        "\n",
        "\"\"\"\n",
        "class BallAndStick(Cell):\n",
        "    name = 'BallAndStick'\n",
        "    \n",
        "    def _setup_morphology(self):\n",
        "        self.soma = h.Section(name='soma', cell=self)\n",
        "        self.dend = h.Section(name='dend', cell=self)\n",
        "        self.dend.connect(self.soma)\n",
        "        self.soma.L = self.soma.diam = 12.6157\n",
        "        self.dend.L = 200\n",
        "        self.dend.diam = 1\n",
        "\n",
        "    def _setup_biophysics(self):\n",
        "        for sec in self.all:\n",
        "            sec.Ra = 100    # Axial resistance in Ohm * cm\n",
        "            sec.cm = 1      # Membrane capacitance in micro Farads / cm^2\n",
        "        self.soma.insert('hh')                                          \n",
        "        for seg in self.soma:\n",
        "            seg.hh.gnabar = 0.12  # Sodium conductance in S/cm2\n",
        "            seg.hh.gkbar = 0.036  # Potassium conductance in S/cm2\n",
        "            seg.hh.gl = 0.0003    # Leak conductance in S/cm2\n",
        "            seg.hh.el = -54.3     # Reversal potential in mV\n",
        "        # Insert passive current in the dendrite\n",
        "        self.dend.insert('pas')                 \n",
        "        for seg in self.dend:\n",
        "            seg.pas.g = 0.001  # Passive conductance in S/cm2\n",
        "            seg.pas.e = -65    # Leak reversal potential mV\n",
        "\n",
        "        # NEW: the synapse\n",
        "        self.syn = h.ExpSyn(self.dend(0.5))\n",
        "        self.syn.tau = 2 * ms\n",
        "\"\"\"\n",
        "\n",
        "ballandstick.py end\n",
        "\n",
        "\"\"\"\n",
        "\n",
        "\"\"\"\n",
        "\n",
        "ring start\n",
        "\"\"\"\n",
        "\n",
        "\n",
        "class Ring:\n",
        "    \"\"\"A network of *N* ball-and-stick cells where cell n makes an\n",
        "    excitatory synapse onto cell n + 1 and the last, Nth cell in the\n",
        "    network projects to the first cell.\n",
        "    \"\"\"\n",
        "    def __init__(self, N=5, stim_w=0.04, stim_t=9, stim_delay=1, syn_w=0.01, syn_delay=5, r=50):\n",
        "        \"\"\"\n",
        "        :param N: Number of cells.\n",
        "        :param stim_w: Weight of the stimulus\n",
        "        :param stim_t: time of the stimulus (in ms)\n",
        "        :param stim_delay: delay of the stimulus (in ms)\n",
        "        :param syn_w: Synaptic weight\n",
        "        :param syn_delay: Delay of the synapse\n",
        "        :param r: radius of the network\n",
        "        \"\"\" \n",
        "        self._syn_w = syn_w\n",
        "        self._syn_delay = syn_delay\n",
        "        self._create_cells(N, r)\n",
        "        self._connect_cells()\n",
        "        # add stimulus\n",
        "        self._netstim = h.NetStim()\n",
        "        self._netstim.number = 1\n",
        "        self._netstim.start = stim_t\n",
        "        self._nc = h.NetCon(self._netstim, self.cells[0].syn)\n",
        "        self._nc.delay = stim_delay\n",
        "        self._nc.weight[0] = stim_w\n",
        "    \n",
        "    def _create_cells(self, N, r):\n",
        "        self.cells = []\n",
        "        for i in range(N):\n",
        "            theta = i * 2 * h.PI / N\n",
        "            self.cells.append(BallAndStick(i, h.cos(theta) * r, h.sin(theta) * r, 0, theta))\n",
        "    \n",
        "    def _connect_cells(self):\n",
        "        for source, target in zip(self.cells, self.cells[1:] + [self.cells[0]]):\n",
        "            nc = h.NetCon(source.soma(0.5)._ref_v, target.syn, sec=source.soma)\n",
        "            nc.weight[0] = self._syn_w\n",
        "            nc.delay = self._syn_delay\n",
        "            source._ncs.append(nc)   \n",
        "\"\"\"\n",
        "\n",
        "ring end\n",
        "\n",
        "\"\"\""
      ],
      "metadata": {
        "colab": {
          "base_uri": "https://localhost:8080/",
          "height": 35
        },
        "id": "x45uydAiV28S",
        "outputId": "ce89205a-6da7-4ea1-d075-5465131c3e70"
      },
      "execution_count": null,
      "outputs": [
        {
          "output_type": "execute_result",
          "data": {
            "text/plain": [
              "'\\n\\nring end\\n\\n'"
            ],
            "application/vnd.google.colaboratory.intrinsic+json": {
              "type": "string"
            }
          },
          "metadata": {},
          "execution_count": 9
        }
      ]
    },
    {
      "cell_type": "markdown",
      "source": [
        "# **Simulation of the network**\n",
        "\n",
        "A Ring object with 5 cells, render it using NEURON's built-in graphics, and running a simulation."
      ],
      "metadata": {
        "id": "rYKGoaDB5v5C"
      }
    },
    {
      "cell_type": "code",
      "source": [
        "%matplotlib inline\n",
        "import matplotlib.pyplot as plt\n",
        "\n",
        "ring = Ring(N=5)\n",
        "shape_window = h.PlotShape(True)\n",
        "shape_window.show(0)\n",
        "\n",
        "t = h.Vector().record(h._ref_t)\n",
        "h.finitialize(-65 * mV)\n",
        "h.continuerun(100)\n",
        "\n",
        "\n",
        "plt.plot(t, ring.cells[0].soma_v)\n",
        "plt.xlabel('t (ms)')\n",
        "plt.ylabel('v (mV)')\n",
        "plt.title('The trace of cell 0s soma')\n",
        "plt.show()\n",
        "\n",
        "\n",
        "plt.figure()\n",
        "for i, cell in enumerate(ring.cells):\n",
        "    plt.vlines(cell.spike_times, i + 0.5, i + 1.5)\n",
        "plt.xlabel('t (ms)')\n",
        "#plt.ylabel('v (mV)')\n",
        "plt.title('The Raster Diagram')\n",
        "plt.show()\n",
        "\n",
        "plt.figure()\n",
        "for syn_w, color in [(0.01, 'black'), (0.005, 'red')]:\n",
        "    ring = Ring(N=5, syn_w=syn_w)\n",
        "    h.finitialize(-65 * mV)\n",
        "    h.continuerun(100 * ms)\n",
        "    for i, cell in enumerate(ring.cells):\n",
        "        plt.vlines(cell.spike_times, i + 0.5, i + 1.5, color=color)\n",
        "plt.xlabel('t (ms)')\n",
        "#plt.ylabel('v (mV)')\n",
        "plt.title('Effects of Parameters on the Raster Diagram')\n",
        "plt.show()"
      ],
      "metadata": {
        "id": "ku_uk8dIkw9Z",
        "colab": {
          "base_uri": "https://localhost:8080/",
          "height": 851
        },
        "outputId": "ccd76296-f2c0-47ec-a842-abea46772796"
      },
      "execution_count": null,
      "outputs": [
        {
          "output_type": "display_data",
          "data": {
            "text/plain": [
              "<Figure size 432x288 with 1 Axes>"
            ],
            "image/png": "[encoded data removed]"
          },
          "metadata": {
            "needs_background": "light"
          }
        },
        {
          "output_type": "display_data",
          "data": {
            "text/plain": [
              "<Figure size 432x288 with 1 Axes>"
            ],
            "image/png": "[encoded data removed]"
          },
          "metadata": {
            "needs_background": "light"
          }
        },
        {
          "output_type": "display_data",
          "data": {
            "text/plain": [
              "<Figure size 432x288 with 1 Axes>"
            ],
            "image/png": "[encoded data removed]"
          },
          "metadata": {
            "needs_background": "light"
          }
        }
      ]
    },
    {
      "cell_type": "markdown",
      "source": [
        "Parallel communication in NEURON\n",
        "\n",
        "\n",
        "The code below is very familiar to the last one.\n",
        "\n",
        "The conceptually new pieces are:\n",
        "\n",
        "pc.set_maxstep(10 * ms) -- sets an upper bound on how far MPI can simulate without communicating, here a simulated 10 ms. This must be called before attempting a parallel simulation.\n",
        "\n",
        "pc.psolve(100 * ms) -- a parallel version of h.continuerun, but does not support updating NEURON graphics during the simulation.\n",
        "\n",
        "pc.gid_exists -- only the process that owns the specified cell should make the plot.\n",
        "\n",
        "pc.gid2cell -- lookup a cell by gid\n",
        "\n",
        "pc.barrier() -- wait until all processes reach this point; used to make sure processes don't shut down before the graph is closed"
      ],
      "metadata": {
        "id": "MjW7zfPA6FED"
      }
    },
    {
      "cell_type": "code",
      "source": [
        "%%writefile ring1.py\n",
        "\n",
        "from neuron import h, gui\n",
        "from neuron.units import ms, mV\n",
        "h.load_file('stdrun.hoc')\n",
        "\n",
        "\"\"\"cell starts\"\"\"\n",
        "#hocobj_call \n",
        "class Cell:\n",
        "    def __init__(self, gid, x, y, z, theta):\n",
        "        self._gid = gid\n",
        "        self._setup_morphology()\n",
        "        self.all = self.soma.wholetree()\n",
        "        self._setup_biophysics()\n",
        "        self.x = self.y = self.z = 0\n",
        "        h.define_shape()\n",
        "        self._rotate_z(theta)\n",
        "        self._set_position(x, y, z)\n",
        "        \n",
        "        # everything below here in this method is NEW\n",
        "        self._spike_detector = h.NetCon(self.soma(0.5)._ref_v, None, sec=self.soma)\n",
        "        self.spike_times = h.Vector()\n",
        "        self._spike_detector.record(self.spike_times)\n",
        "        \n",
        "        self._ncs = []\n",
        "        \n",
        "        self.soma_v = h.Vector().record(self.soma(0.5)._ref_v)\n",
        "\n",
        "        \n",
        "    def __repr__(self):\n",
        "        return '{}[{}]'.format(self.name, self._gid)\n",
        "    \n",
        "    def _set_position(self, x, y, z):\n",
        "        for sec in self.all:\n",
        "            for i in range(sec.n3d()):\n",
        "                sec.pt3dchange(i,\n",
        "                               x - self.x + sec.x3d(i),\n",
        "                               y - self.y + sec.y3d(i),\n",
        "                               z - self.z + sec.z3d(i),\n",
        "                              sec.diam3d(i))\n",
        "        self.x, self.y, self.z = x, y, z\n",
        "        \n",
        "    def _rotate_z(self, theta):\n",
        "        \"\"\"Rotate the cell about the Z axis.\"\"\"\n",
        "        for sec in self.all:\n",
        "            for i in range(sec.n3d()):\n",
        "                x = sec.x3d(i)\n",
        "                y = sec.y3d(i)\n",
        "                c = h.cos(theta)\n",
        "                s = h.sin(theta)\n",
        "                xprime = x * c - y * s\n",
        "                yprime = x * s + y * c\n",
        "\n",
        "\n",
        "\"\"\"\n",
        "cell end\n",
        "\"\"\"\n",
        "class BallAndStick(Cell):\n",
        "    name = 'BallAndStick'\n",
        "    \n",
        "    def _setup_morphology(self):\n",
        "        self.soma = h.Section(name='soma', cell=self)\n",
        "        self.dend = h.Section(name='dend', cell=self)\n",
        "        self.dend.connect(self.soma)\n",
        "        self.soma.L = self.soma.diam = 12.6157\n",
        "        self.dend.L = 200\n",
        "        self.dend.diam = 1\n",
        "\n",
        "    def _setup_biophysics(self):\n",
        "        for sec in self.all:\n",
        "            sec.Ra = 100    # Axial resistance in Ohm * cm\n",
        "            sec.cm = 1      # Membrane capacitance in micro Farads / cm^2\n",
        "        self.soma.insert('hh')                                          \n",
        "        for seg in self.soma:\n",
        "            seg.hh.gnabar = 0.12  # Sodium conductance in S/cm2\n",
        "            seg.hh.gkbar = 0.036  # Potassium conductance in S/cm2\n",
        "            seg.hh.gl = 0.0003    # Leak conductance in S/cm2\n",
        "            seg.hh.el = -54.3     # Reversal potential in mV\n",
        "        # Insert passive current in the dendrite\n",
        "        self.dend.insert('pas')                 \n",
        "        for seg in self.dend:\n",
        "            seg.pas.g = 0.001  # Passive conductance in S/cm2\n",
        "            seg.pas.e = -65    # Leak reversal potential mV\n",
        "\n",
        "        # NEW: the synapse\n",
        "        self.syn = h.ExpSyn(self.dend(0.5))\n",
        "        self.syn.tau = 2 * ms\n",
        "\"\"\"\n",
        "BallAndStick end\n",
        "\"\"\"\n",
        "\n",
        "from neuron import h\n",
        "#from ballandstick import BallAndStick\n",
        "\n",
        "### MPI must be initialized before we create a ParallelContext object\n",
        "h.nrnmpi_init()\n",
        "pc = h.ParallelContext()\n",
        "\n",
        "class Ring1:\n",
        "    \"\"\"A network of *N* ball-and-stick cells where cell n makes an\n",
        "    excitatory synapse onto cell n + 1 and the last, Nth cell in the\n",
        "    network projects to the first cell.\n",
        "    \"\"\"\n",
        "    def __init__(self, N=5, stim_w=0.04, stim_t=9, stim_delay=1, syn_w=0.01, syn_delay=5, r=50):\n",
        "        \"\"\"\n",
        "        :param N: Number of cells.\n",
        "        :param stim_w: Weight of the stimulus\n",
        "        :param stim_t: time of the stimulus (in ms)\n",
        "        :param stim_delay: delay of the stimulus (in ms)\n",
        "        :param syn_w: Synaptic weight\n",
        "        :param syn_delay: Delay of the synapse\n",
        "        :param r: radius of the network\n",
        "        \"\"\" \n",
        "        self._N = N\n",
        "        self.set_gids()                   ### assign gids to processors\n",
        "        self._syn_w = syn_w\n",
        "        self._syn_delay = syn_delay\n",
        "        self._create_cells(r)             ### changed to use self._N instead of passing in N\n",
        "        self._connect_cells()\n",
        "        ### the 0th cell only exists on one process... that's the only one that gets a netstim\n",
        "        if pc.gid_exists(0):\n",
        "            self._netstim = h.NetStim()\n",
        "            self._netstim.number = 1\n",
        "            self._netstim.start = stim_t\n",
        "            self._nc = h.NetCon(self._netstim, pc.gid2cell(0).syn)   ### grab cell with gid==0 wherever it exists\n",
        "            self._nc.delay = stim_delay\n",
        "            self._nc.weight[0] = stim_w\n",
        "    \n",
        "    def set_gids(self):\n",
        "        \"\"\"Set the gidlist on this host.\"\"\"\n",
        "        #### Round-robin counting.\n",
        "        #### Each host has an id from 0 to pc.nhost() - 1.\n",
        "        self.gidlist = list(range(pc.id(), self._N, pc.nhost()))\n",
        "        for gid in self.gidlist:\n",
        "            pc.set_gid2node(gid, pc.id())\n",
        "    \n",
        "    def _create_cells(self, r):\n",
        "        self.cells = []\n",
        "        for i in self.gidlist:    ### only create the cells that exist on this host\n",
        "            theta = i * 2 * h.PI / self._N\n",
        "            self.cells.append(BallAndStick(i, h.cos(theta) * r, h.sin(theta) * r, 0, theta))\n",
        "        ### associate the cell with this host and gid\n",
        "        for cell in self.cells:\n",
        "            pc.cell(cell._gid, cell._spike_detector)\n",
        "\n",
        "    def _connect_cells(self):\n",
        "        ### this method is different because we now must use ids instead of objects\n",
        "        for target in self.cells:\n",
        "            source_gid = (target._gid - 1 + self._N) % self._N\n",
        "            nc = pc.gid_connect(source_gid, target.syn)\n",
        "            nc.weight[0] = self._syn_w\n",
        "            nc.delay = self._syn_delay\n",
        "            target._ncs.append(nc)\n",
        "\n",
        "\n",
        "\n",
        "\n",
        "from neuron.units import ms, mV\n",
        "import matplotlib.pyplot as plt\n",
        "#import ring\n",
        "#from ring import Ring\n",
        "\n",
        "cell_to_plot = 0\n",
        "\n",
        "ring = Ring1()\n",
        "\n",
        "pc = h.ParallelContext()\n",
        "pc.set_maxstep(10 * ms)\n",
        "\n",
        "t = h.Vector().record(h._ref_t)\n",
        "h.finitialize(-65 * mV)\n",
        "pc.psolve(100 * ms)\n",
        "\n",
        "if pc.gid_exists(cell_to_plot):\n",
        "    plt.figure()\n",
        "    plt.plot(t, pc.gid2cell(cell_to_plot).soma_v)\n",
        "    plt.show()\n",
        "\n",
        "pc.barrier()\n",
        "pc.done()\n",
        "#h.quit()"
      ],
      "metadata": {
        "colab": {
          "base_uri": "https://localhost:8080/"
        },
        "id": "-jZzQBOWV9Lg",
        "outputId": "24129ea1-aabe-4bc9-c72d-e0832efca07c"
      },
      "execution_count": null,
      "outputs": [
        {
          "output_type": "stream",
          "name": "stdout",
          "text": [
            "Writing ring1.py\n"
          ]
        }
      ]
    },
    {
      "cell_type": "code",
      "source": [
        "!mpiexec --allow-run-as-root -quiet -n 4 python ring1.py"
      ],
      "metadata": {
        "colab": {
          "base_uri": "https://localhost:8080/"
        },
        "id": "L-qT6NGPbu1j",
        "outputId": "599982d9-43c3-4cc9-9728-b10293b37502"
      },
      "execution_count": null,
      "outputs": [
        {
          "output_type": "stream",
          "name": "stdout",
          "text": [
            "Warning: no DISPLAY environment variable.\n",
            "--No graphics will be displayed.\n",
            "Warning: no DISPLAY environment variable.\n",
            "--No graphics will be displayed.\n",
            "Warning: no DISPLAY environment variable.\n",
            "--No graphics will be displayed.\n",
            "Warning: no DISPLAY environment variable.\n",
            "--No graphics will be displayed.\n",
            "numprocs=4\n",
            "Figure(640x480)\n"
          ]
        }
      ]
    }
  ]
}